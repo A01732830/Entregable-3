{
  "nbformat": 4,
  "nbformat_minor": 0,
  "metadata": {
    "colab": {
      "provenance": [],
      "include_colab_link": true
    },
    "kernelspec": {
      "name": "python3",
      "display_name": "Python 3"
    },
    "language_info": {
      "name": "python"
    }
  },
  "cells": [
    {
      "cell_type": "markdown",
      "metadata": {
        "id": "view-in-github",
        "colab_type": "text"
      },
      "source": [
        "<a href=\"https://colab.research.google.com/github/A01732830/Entregable-3/blob/main/regresion_linea3_micro.ipynb\" target=\"_parent\"><img src=\"https://colab.research.google.com/assets/colab-badge.svg\" alt=\"Open In Colab\"/></a>"
      ]
    },
    {
      "cell_type": "code",
      "execution_count": null,
      "metadata": {
        "id": "A4BFxf9aK1l2"
      },
      "outputs": [],
      "source": [
        "import pandas as pd\n",
        "import numpy as np\n",
        "import matplotlib.pyplot as plt\n",
        "import seaborn as sns"
      ]
    },
    {
      "cell_type": "code",
      "source": [
        "#Cargar archivo csv desde equipo\n",
        "from google.colab import files\n",
        "files.upload()"
      ],
      "metadata": {
        "id": "l-KsRM6NK-4E",
        "colab": {
          "base_uri": "https://localhost:8080/",
          "height": 56
        },
        "outputId": "7c6a6a97-066c-45a9-d5b3-4665a944b72d"
      },
      "execution_count": null,
      "outputs": [
        {
          "output_type": "display_data",
          "data": {
            "text/plain": [
              "<IPython.core.display.HTML object>"
            ],
            "text/html": [
              "\n",
              "     <input type=\"file\" id=\"files-54615a57-cd86-4b03-8868-6f4aca8c8c0f\" name=\"files[]\" multiple disabled\n",
              "        style=\"border:none\" />\n",
              "     <output id=\"result-54615a57-cd86-4b03-8868-6f4aca8c8c0f\">\n",
              "      Upload widget is only available when the cell has been executed in the\n",
              "      current browser session. Please rerun this cell to enable.\n",
              "      </output>\n",
              "      <script>// Copyright 2017 Google LLC\n",
              "//\n",
              "// Licensed under the Apache License, Version 2.0 (the \"License\");\n",
              "// you may not use this file except in compliance with the License.\n",
              "// You may obtain a copy of the License at\n",
              "//\n",
              "//      http://www.apache.org/licenses/LICENSE-2.0\n",
              "//\n",
              "// Unless required by applicable law or agreed to in writing, software\n",
              "// distributed under the License is distributed on an \"AS IS\" BASIS,\n",
              "// WITHOUT WARRANTIES OR CONDITIONS OF ANY KIND, either express or implied.\n",
              "// See the License for the specific language governing permissions and\n",
              "// limitations under the License.\n",
              "\n",
              "/**\n",
              " * @fileoverview Helpers for google.colab Python module.\n",
              " */\n",
              "(function(scope) {\n",
              "function span(text, styleAttributes = {}) {\n",
              "  const element = document.createElement('span');\n",
              "  element.textContent = text;\n",
              "  for (const key of Object.keys(styleAttributes)) {\n",
              "    element.style[key] = styleAttributes[key];\n",
              "  }\n",
              "  return element;\n",
              "}\n",
              "\n",
              "// Max number of bytes which will be uploaded at a time.\n",
              "const MAX_PAYLOAD_SIZE = 100 * 1024;\n",
              "\n",
              "function _uploadFiles(inputId, outputId) {\n",
              "  const steps = uploadFilesStep(inputId, outputId);\n",
              "  const outputElement = document.getElementById(outputId);\n",
              "  // Cache steps on the outputElement to make it available for the next call\n",
              "  // to uploadFilesContinue from Python.\n",
              "  outputElement.steps = steps;\n",
              "\n",
              "  return _uploadFilesContinue(outputId);\n",
              "}\n",
              "\n",
              "// This is roughly an async generator (not supported in the browser yet),\n",
              "// where there are multiple asynchronous steps and the Python side is going\n",
              "// to poll for completion of each step.\n",
              "// This uses a Promise to block the python side on completion of each step,\n",
              "// then passes the result of the previous step as the input to the next step.\n",
              "function _uploadFilesContinue(outputId) {\n",
              "  const outputElement = document.getElementById(outputId);\n",
              "  const steps = outputElement.steps;\n",
              "\n",
              "  const next = steps.next(outputElement.lastPromiseValue);\n",
              "  return Promise.resolve(next.value.promise).then((value) => {\n",
              "    // Cache the last promise value to make it available to the next\n",
              "    // step of the generator.\n",
              "    outputElement.lastPromiseValue = value;\n",
              "    return next.value.response;\n",
              "  });\n",
              "}\n",
              "\n",
              "/**\n",
              " * Generator function which is called between each async step of the upload\n",
              " * process.\n",
              " * @param {string} inputId Element ID of the input file picker element.\n",
              " * @param {string} outputId Element ID of the output display.\n",
              " * @return {!Iterable<!Object>} Iterable of next steps.\n",
              " */\n",
              "function* uploadFilesStep(inputId, outputId) {\n",
              "  const inputElement = document.getElementById(inputId);\n",
              "  inputElement.disabled = false;\n",
              "\n",
              "  const outputElement = document.getElementById(outputId);\n",
              "  outputElement.innerHTML = '';\n",
              "\n",
              "  const pickedPromise = new Promise((resolve) => {\n",
              "    inputElement.addEventListener('change', (e) => {\n",
              "      resolve(e.target.files);\n",
              "    });\n",
              "  });\n",
              "\n",
              "  const cancel = document.createElement('button');\n",
              "  inputElement.parentElement.appendChild(cancel);\n",
              "  cancel.textContent = 'Cancel upload';\n",
              "  const cancelPromise = new Promise((resolve) => {\n",
              "    cancel.onclick = () => {\n",
              "      resolve(null);\n",
              "    };\n",
              "  });\n",
              "\n",
              "  // Wait for the user to pick the files.\n",
              "  const files = yield {\n",
              "    promise: Promise.race([pickedPromise, cancelPromise]),\n",
              "    response: {\n",
              "      action: 'starting',\n",
              "    }\n",
              "  };\n",
              "\n",
              "  cancel.remove();\n",
              "\n",
              "  // Disable the input element since further picks are not allowed.\n",
              "  inputElement.disabled = true;\n",
              "\n",
              "  if (!files) {\n",
              "    return {\n",
              "      response: {\n",
              "        action: 'complete',\n",
              "      }\n",
              "    };\n",
              "  }\n",
              "\n",
              "  for (const file of files) {\n",
              "    const li = document.createElement('li');\n",
              "    li.append(span(file.name, {fontWeight: 'bold'}));\n",
              "    li.append(span(\n",
              "        `(${file.type || 'n/a'}) - ${file.size} bytes, ` +\n",
              "        `last modified: ${\n",
              "            file.lastModifiedDate ? file.lastModifiedDate.toLocaleDateString() :\n",
              "                                    'n/a'} - `));\n",
              "    const percent = span('0% done');\n",
              "    li.appendChild(percent);\n",
              "\n",
              "    outputElement.appendChild(li);\n",
              "\n",
              "    const fileDataPromise = new Promise((resolve) => {\n",
              "      const reader = new FileReader();\n",
              "      reader.onload = (e) => {\n",
              "        resolve(e.target.result);\n",
              "      };\n",
              "      reader.readAsArrayBuffer(file);\n",
              "    });\n",
              "    // Wait for the data to be ready.\n",
              "    let fileData = yield {\n",
              "      promise: fileDataPromise,\n",
              "      response: {\n",
              "        action: 'continue',\n",
              "      }\n",
              "    };\n",
              "\n",
              "    // Use a chunked sending to avoid message size limits. See b/62115660.\n",
              "    let position = 0;\n",
              "    do {\n",
              "      const length = Math.min(fileData.byteLength - position, MAX_PAYLOAD_SIZE);\n",
              "      const chunk = new Uint8Array(fileData, position, length);\n",
              "      position += length;\n",
              "\n",
              "      const base64 = btoa(String.fromCharCode.apply(null, chunk));\n",
              "      yield {\n",
              "        response: {\n",
              "          action: 'append',\n",
              "          file: file.name,\n",
              "          data: base64,\n",
              "        },\n",
              "      };\n",
              "\n",
              "      let percentDone = fileData.byteLength === 0 ?\n",
              "          100 :\n",
              "          Math.round((position / fileData.byteLength) * 100);\n",
              "      percent.textContent = `${percentDone}% done`;\n",
              "\n",
              "    } while (position < fileData.byteLength);\n",
              "  }\n",
              "\n",
              "  // All done.\n",
              "  yield {\n",
              "    response: {\n",
              "      action: 'complete',\n",
              "    }\n",
              "  };\n",
              "}\n",
              "\n",
              "scope.google = scope.google || {};\n",
              "scope.google.colab = scope.google.colab || {};\n",
              "scope.google.colab._files = {\n",
              "  _uploadFiles,\n",
              "  _uploadFilesContinue,\n",
              "};\n",
              "})(self);\n",
              "</script> "
            ]
          },
          "metadata": {}
        }
      ]
    },
    {
      "cell_type": "code",
      "source": [
        "#Carga desde un archivo .csv sin indice\n",
        "micro = pd.read_csv('Microretailer_limpio_evidencia2.csv')\n",
        "micro.head(5)"
      ],
      "metadata": {
        "id": "q72jJ-7fLE_3"
      },
      "execution_count": null,
      "outputs": []
    },
    {
      "cell_type": "code",
      "source": [
        "#Se grafican mapas de disperision de las variables #competidores, #refrigeradores, #muebles\n",
        "from turtle import color\n",
        "\n",
        "sns.scatterplot(x='145_number_direct_competitors', y='172_supplier_frequency', color='blue', data=micro)\n",
        "sns.scatterplot(x='62_frequency_only_services', y='172_supplier_frequency', color='red', data=micro)\n",
        "sns.scatterplot(x='317_home_deliveries', y='172_supplier_frequency', color='yellow', data=micro)"
      ],
      "metadata": {
        "colab": {
          "base_uri": "https://localhost:8080/",
          "height": 297
        },
        "id": "lG6Xm9_hK_dd",
        "outputId": "11eb86ec-58a5-4d67-d2f8-e81362be0660"
      },
      "execution_count": null,
      "outputs": [
        {
          "output_type": "execute_result",
          "data": {
            "text/plain": [
              "<matplotlib.axes._subplots.AxesSubplot at 0x7f12dbb59f10>"
            ]
          },
          "metadata": {},
          "execution_count": 4
        },
        {
          "output_type": "display_data",
          "data": {
            "text/plain": [
              "<Figure size 432x288 with 1 Axes>"
            ],
            "image/png": "[encoded data removed]"
          },
          "metadata": {
            "needs_background": "light"
          }
        }
      ]
    },
    {
      "cell_type": "code",
      "source": [
        "#Declaramos las variables dependientes e independientes para la regresion lineal\n",
        "Vars_Indep=micro[['145_number_direct_competitors', '62_frequency_only_services', '317_home_deliveries']]\n",
        "Var_Dep=micro['172_supplier_frequency']"
      ],
      "metadata": {
        "id": "x62RV776LJWy"
      },
      "execution_count": null,
      "outputs": []
    },
    {
      "cell_type": "code",
      "source": [
        "#se define model como la funcion de regresion lineal\n",
        "from sklearn.linear_model import LinearRegression\n",
        "model= LinearRegression()"
      ],
      "metadata": {
        "id": "MNCAw7szLMKu"
      },
      "execution_count": null,
      "outputs": []
    },
    {
      "cell_type": "code",
      "source": [
        "#verificamos la funcion relacionada al modelo\n",
        "type(model)"
      ],
      "metadata": {
        "colab": {
          "base_uri": "https://localhost:8080/"
        },
        "id": "OKZo5c8eLO8I",
        "outputId": "f6bcb2ee-2480-44df-832a-7ebe7bc73c70"
      },
      "execution_count": null,
      "outputs": [
        {
          "output_type": "execute_result",
          "data": {
            "text/plain": [
              "sklearn.linear_model._base.LinearRegression"
            ]
          },
          "metadata": {},
          "execution_count": 7
        }
      ]
    },
    {
      "cell_type": "code",
      "source": [
        "from numpy.lib.twodim_base import vander\n",
        "#ajustamos el modela con las variables antes declaradas\n",
        "model.fit(X=Vars_Indep, y=Var_Dep)\n",
        "LinearRegression()"
      ],
      "metadata": {
        "colab": {
          "base_uri": "https://localhost:8080/"
        },
        "id": "oLF7G5eELRTm",
        "outputId": "5862bef3-fc9a-49cb-ddb6-c358b6763475"
      },
      "execution_count": null,
      "outputs": [
        {
          "output_type": "execute_result",
          "data": {
            "text/plain": [
              "LinearRegression()"
            ]
          },
          "metadata": {},
          "execution_count": 8
        }
      ]
    },
    {
      "cell_type": "code",
      "source": [
        "#verificamos los coeficientes obtenidos para el modelo ajustado\n",
        "model.__dict__"
      ],
      "metadata": {
        "colab": {
          "base_uri": "https://localhost:8080/"
        },
        "id": "Eke_RLvOLTO7",
        "outputId": "e4865f18-f1c1-4bf2-9e8d-0bc32599c036"
      },
      "execution_count": null,
      "outputs": [
        {
          "output_type": "execute_result",
          "data": {
            "text/plain": [
              "{'fit_intercept': True,\n",
              " 'normalize': 'deprecated',\n",
              " 'copy_X': True,\n",
              " 'n_jobs': None,\n",
              " 'positive': False,\n",
              " 'feature_names_in_': array(['145_number_direct_competitors', '62_frequency_only_services',\n",
              "        '317_home_deliveries'], dtype=object),\n",
              " 'n_features_in_': 3,\n",
              " 'coef_': array([ 0.02245814, -0.00989571,  0.02458005]),\n",
              " '_residues': 284.08791510944377,\n",
              " 'rank_': 3,\n",
              " 'singular_': array([78.54278564, 46.53476565, 43.71912517]),\n",
              " 'intercept_': 1.9036830398033942}"
            ]
          },
          "metadata": {},
          "execution_count": 9
        }
      ]
    },
    {
      "cell_type": "markdown",
      "source": [
        "y = 0.02245814(145_number_direct_competitors) - 0.00989571(62_frequency_only_services) + 0.02458005(317_home_deliveries) + 1.9036830398033942"
      ],
      "metadata": {
        "id": "j2czxbN-OoWK"
      }
    },
    {
      "cell_type": "code",
      "source": [
        "#evaluamos la eficiencia del modelo obtenido por medio del coeficiente R2 \n",
        "model.score(Vars_Indep,Var_Dep)"
      ],
      "metadata": {
        "colab": {
          "base_uri": "https://localhost:8080/"
        },
        "id": "TvnpRCWcLVA1",
        "outputId": "e0653b65-91fe-4d43-d899-4663d4308e23"
      },
      "execution_count": null,
      "outputs": [
        {
          "output_type": "execute_result",
          "data": {
            "text/plain": [
              "0.012990520857026122"
            ]
          },
          "metadata": {},
          "execution_count": 10
        }
      ]
    },
    {
      "cell_type": "code",
      "source": [
        "#Predecimos los valores de total de accidentes a partir de las variables: '#competidores', 'frec servicios' y 'entregas a domicilio'\n",
        "y_pred = model.predict(X=micro[['145_number_direct_competitors', '62_frequency_only_services', '317_home_deliveries']])\n",
        "y_pred"
      ],
      "metadata": {
        "id": "yNloMAJrLXDm"
      },
      "execution_count": null,
      "outputs": []
    },
    {
      "cell_type": "code",
      "source": [
        "#Insertamos la columna de predicciones en el Dataframe\n",
        "micro.insert(0, 'Predicciones', y_pred)\n",
        "micro"
      ],
      "metadata": {
        "colab": {
          "base_uri": "https://localhost:8080/",
          "height": 731
        },
        "id": "VSsg0FP3LY5X",
        "outputId": "0518f89b-e3fe-4657-bfa9-55881901f0bb"
      },
      "execution_count": null,
      "outputs": [
        {
          "output_type": "execute_result",
          "data": {
            "text/plain": [
              "     Predicciones  Unnamed: 0  \\\n",
              "0        2.236827           0   \n",
              "1        2.236827           1   \n",
              "2        2.281744           2   \n",
              "3        2.191911           3   \n",
              "4        2.281744           4   \n",
              "..            ...         ...   \n",
              "439      2.330535         439   \n",
              "440      2.241319         440   \n",
              "441      2.241319         441   \n",
              "442      2.241319         442   \n",
              "443      2.241319         443   \n",
              "\n",
              "                                        228_store_name  \\\n",
              "0                                   MINI SUPER 3 NORTE   \n",
              "1                                          Miscelánea    \n",
              "2                                Miscelánea casa cruz    \n",
              "3                                   SUPER & ALMACENES    \n",
              "4                                           Ranita “V”   \n",
              "..                                                 ...   \n",
              "439                                      Xuti Galería    \n",
              "440                                         July Store   \n",
              "441                                          La fonda    \n",
              "442  Birria de Res \"Hermanos Negreros 2\" estilo Tij...   \n",
              "443                          Restaurante el alfeñique    \n",
              "\n",
              "                   232_type_of_store  \\\n",
              "0     Grocery store (aka. nanostore)   \n",
              "1     Grocery store (aka. nanostore)   \n",
              "2     Grocery store (aka. nanostore)   \n",
              "3                          Chacharas   \n",
              "4     Grocery store (aka. nanostore)   \n",
              "..                               ...   \n",
              "439         productos tradicionales    \n",
              "440   Grocery store (aka. nanostore)   \n",
              "441  Micro-restaurant (aka. fondita)   \n",
              "442  Micro-restaurant (aka. fondita)   \n",
              "443  Micro-restaurant (aka. fondita)   \n",
              "\n",
              "    108_does_the_micro_retailer_has_a_barred_window_  \\\n",
              "0                                                 no   \n",
              "1                                                 no   \n",
              "2                                                 no   \n",
              "3                                                 no   \n",
              "4                                                 no   \n",
              "..                                               ...   \n",
              "439                                               no   \n",
              "440                                              yes   \n",
              "441                                              yes   \n",
              "442                                               no   \n",
              "443                                               no   \n",
              "\n",
              "    99_does_the_micro_retailer_exhibits_products_outside_  \\\n",
              "0                                                   no      \n",
              "1                                                   no      \n",
              "2                                                   no      \n",
              "3                                                   no      \n",
              "4                                                   no      \n",
              "..                                                 ...      \n",
              "439                                                yes      \n",
              "440                                                 no      \n",
              "441                                                 no      \n",
              "442                                                 no      \n",
              "443                                                 no      \n",
              "\n",
              "    102_does_the_micro_retailer_sells_fresh_products_  \\\n",
              "0                                                 yes   \n",
              "1                                                 yes   \n",
              "2                                                  no   \n",
              "3                                                  no   \n",
              "4                                                  no   \n",
              "..                                                ...   \n",
              "439                                                no   \n",
              "440                                                no   \n",
              "441                                               yes   \n",
              "442                                               yes   \n",
              "443                                               yes   \n",
              "\n",
              "                                     184_store_devices  \\\n",
              "0                                 Analog cash register   \n",
              "1                                 Analog cash register   \n",
              "2                                 Analog cash register   \n",
              "3    POS system (i.e. computer + bar code scanner +...   \n",
              "4                                 Analog cash register   \n",
              "..                                                 ...   \n",
              "439                               Analog cash register   \n",
              "440                    Analog cash register,Smartphone   \n",
              "441                                         Smartphone   \n",
              "442                               Analog cash register   \n",
              "443                                         Smartphone   \n",
              "\n",
              "    hola_somos_estudiantes_del_tec_de_monterrey_estamos_realiz  \\\n",
              "0                                                   no           \n",
              "1                                                  yes           \n",
              "2                                                  yes           \n",
              "3                                                  yes           \n",
              "4                                                  yes           \n",
              "..                                                 ...           \n",
              "439                                                yes           \n",
              "440                                                 no           \n",
              "441                                                 no           \n",
              "442                                                 no           \n",
              "443                                                 no           \n",
              "\n",
              "    le_comento_que_toda_esta_informacin_es_confidencial  ... 24_burnout  \\\n",
              "0                                                   no   ...        3.9   \n",
              "1                                                  yes   ...        3.9   \n",
              "2                                                  yes   ...        3.9   \n",
              "3                                                  yes   ...        3.9   \n",
              "4                                                  yes   ...        3.9   \n",
              "..                                                 ...   ...        ...   \n",
              "439                                                yes   ...        3.9   \n",
              "440                                                yes   ...        3.9   \n",
              "441                                                yes   ...        3.9   \n",
              "442                                                yes   ...        3.9   \n",
              "443                                                 no   ...        3.9   \n",
              "\n",
              "    272_card_days_receive_money 276_expected_days_informal_credit  \\\n",
              "0                           1.1                              12.0   \n",
              "1                           1.1                              12.0   \n",
              "2                           1.1                              12.0   \n",
              "3                           1.0                              12.0   \n",
              "4                           1.1                              12.0   \n",
              "..                          ...                               ...   \n",
              "439                         1.0                              12.0   \n",
              "440                         1.1                              12.0   \n",
              "441                         1.1                              12.0   \n",
              "442                         1.1                              12.0   \n",
              "443                         1.1                              12.0   \n",
              "\n",
              "    36_credit_default_rate 315_frequency_topups 316_frequency_utility_bills  \\\n",
              "0                      1.4                 12.0                         6.5   \n",
              "1                      1.4                 12.0                         6.5   \n",
              "2                      1.4                 12.0                         6.5   \n",
              "3                      1.4                 12.0                         6.5   \n",
              "4                      1.4                 12.0                         6.5   \n",
              "..                     ...                  ...                         ...   \n",
              "439                    1.4                 12.0                         6.5   \n",
              "440                    1.4                 12.0                         6.5   \n",
              "441                    1.4                 12.0                         6.5   \n",
              "442                    1.4                 12.0                         6.5   \n",
              "443                    1.4                 12.0                         6.5   \n",
              "\n",
              "    317_home_deliveries 62_frequency_only_services  \\\n",
              "0                  13.2                        8.2   \n",
              "1                  13.2                        8.2   \n",
              "2                  13.2                        8.2   \n",
              "3                  13.2                        8.2   \n",
              "4                  13.2                        8.2   \n",
              "..                  ...                        ...   \n",
              "439                13.2                        1.0   \n",
              "440                13.2                        8.2   \n",
              "441                13.2                        8.2   \n",
              "442                13.2                        8.2   \n",
              "443                13.2                        8.2   \n",
              "\n",
              "    78_number_home_deliveries_week 172_supplier_frequency  \n",
              "0                              2.2                    4.0  \n",
              "1                              2.2                    1.0  \n",
              "2                              2.2                    3.0  \n",
              "3                              2.2                    2.0  \n",
              "4                              2.2                    2.0  \n",
              "..                             ...                    ...  \n",
              "439                            2.2                    5.0  \n",
              "440                            2.2                    2.5  \n",
              "441                            2.2                    2.5  \n",
              "442                            2.2                    2.5  \n",
              "443                            2.2                    2.5  \n",
              "\n",
              "[444 rows x 89 columns]"
            ],
            "text/html": [
              "\n",
              "  <div id=\"df-cb4b5ffc-018f-40d2-9c7d-440cf8a9069f\">\n",
              "    <div class=\"colab-df-container\">\n",
              "      <div>\n",
              "<style scoped>\n",
              "    .dataframe tbody tr th:only-of-type {\n",
              "        vertical-align: middle;\n",
              "    }\n",
              "\n",
              "    .dataframe tbody tr th {\n",
              "        vertical-align: top;\n",
              "    }\n",
              "\n",
              "    .dataframe thead th {\n",
              "        text-align: right;\n",
              "    }\n",
              "</style>\n",
              "<table border=\"1\" class=\"dataframe\">\n",
              "  <thead>\n",
              "    <tr style=\"text-align: right;\">\n",
              "      <th></th>\n",
              "      <th>Predicciones</th>\n",
              "      <th>Unnamed: 0</th>\n",
              "      <th>228_store_name</th>\n",
              "      <th>232_type_of_store</th>\n",
              "      <th>108_does_the_micro_retailer_has_a_barred_window_</th>\n",
              "      <th>99_does_the_micro_retailer_exhibits_products_outside_</th>\n",
              "      <th>102_does_the_micro_retailer_sells_fresh_products_</th>\n",
              "      <th>184_store_devices</th>\n",
              "      <th>hola_somos_estudiantes_del_tec_de_monterrey_estamos_realiz</th>\n",
              "      <th>le_comento_que_toda_esta_informacin_es_confidencial</th>\n",
              "      <th>...</th>\n",
              "      <th>24_burnout</th>\n",
              "      <th>272_card_days_receive_money</th>\n",
              "      <th>276_expected_days_informal_credit</th>\n",
              "      <th>36_credit_default_rate</th>\n",
              "      <th>315_frequency_topups</th>\n",
              "      <th>316_frequency_utility_bills</th>\n",
              "      <th>317_home_deliveries</th>\n",
              "      <th>62_frequency_only_services</th>\n",
              "      <th>78_number_home_deliveries_week</th>\n",
              "      <th>172_supplier_frequency</th>\n",
              "    </tr>\n",
              "  </thead>\n",
              "  <tbody>\n",
              "    <tr>\n",
              "      <th>0</th>\n",
              "      <td>2.236827</td>\n",
              "      <td>0</td>\n",
              "      <td>MINI SUPER 3 NORTE</td>\n",
              "      <td>Grocery store (aka. nanostore)</td>\n",
              "      <td>no</td>\n",
              "      <td>no</td>\n",
              "      <td>yes</td>\n",
              "      <td>Analog cash register</td>\n",
              "      <td>no</td>\n",
              "      <td>no</td>\n",
              "      <td>...</td>\n",
              "      <td>3.9</td>\n",
              "      <td>1.1</td>\n",
              "      <td>12.0</td>\n",
              "      <td>1.4</td>\n",
              "      <td>12.0</td>\n",
              "      <td>6.5</td>\n",
              "      <td>13.2</td>\n",
              "      <td>8.2</td>\n",
              "      <td>2.2</td>\n",
              "      <td>4.0</td>\n",
              "    </tr>\n",
              "    <tr>\n",
              "      <th>1</th>\n",
              "      <td>2.236827</td>\n",
              "      <td>1</td>\n",
              "      <td>Miscelánea</td>\n",
              "      <td>Grocery store (aka. nanostore)</td>\n",
              "      <td>no</td>\n",
              "      <td>no</td>\n",
              "      <td>yes</td>\n",
              "      <td>Analog cash register</td>\n",
              "      <td>yes</td>\n",
              "      <td>yes</td>\n",
              "      <td>...</td>\n",
              "      <td>3.9</td>\n",
              "      <td>1.1</td>\n",
              "      <td>12.0</td>\n",
              "      <td>1.4</td>\n",
              "      <td>12.0</td>\n",
              "      <td>6.5</td>\n",
              "      <td>13.2</td>\n",
              "      <td>8.2</td>\n",
              "      <td>2.2</td>\n",
              "      <td>1.0</td>\n",
              "    </tr>\n",
              "    <tr>\n",
              "      <th>2</th>\n",
              "      <td>2.281744</td>\n",
              "      <td>2</td>\n",
              "      <td>Miscelánea casa cruz</td>\n",
              "      <td>Grocery store (aka. nanostore)</td>\n",
              "      <td>no</td>\n",
              "      <td>no</td>\n",
              "      <td>no</td>\n",
              "      <td>Analog cash register</td>\n",
              "      <td>yes</td>\n",
              "      <td>yes</td>\n",
              "      <td>...</td>\n",
              "      <td>3.9</td>\n",
              "      <td>1.1</td>\n",
              "      <td>12.0</td>\n",
              "      <td>1.4</td>\n",
              "      <td>12.0</td>\n",
              "      <td>6.5</td>\n",
              "      <td>13.2</td>\n",
              "      <td>8.2</td>\n",
              "      <td>2.2</td>\n",
              "      <td>3.0</td>\n",
              "    </tr>\n",
              "    <tr>\n",
              "      <th>3</th>\n",
              "      <td>2.191911</td>\n",
              "      <td>3</td>\n",
              "      <td>SUPER &amp; ALMACENES</td>\n",
              "      <td>Chacharas</td>\n",
              "      <td>no</td>\n",
              "      <td>no</td>\n",
              "      <td>no</td>\n",
              "      <td>POS system (i.e. computer + bar code scanner +...</td>\n",
              "      <td>yes</td>\n",
              "      <td>yes</td>\n",
              "      <td>...</td>\n",
              "      <td>3.9</td>\n",
              "      <td>1.0</td>\n",
              "      <td>12.0</td>\n",
              "      <td>1.4</td>\n",
              "      <td>12.0</td>\n",
              "      <td>6.5</td>\n",
              "      <td>13.2</td>\n",
              "      <td>8.2</td>\n",
              "      <td>2.2</td>\n",
              "      <td>2.0</td>\n",
              "    </tr>\n",
              "    <tr>\n",
              "      <th>4</th>\n",
              "      <td>2.281744</td>\n",
              "      <td>4</td>\n",
              "      <td>Ranita “V”</td>\n",
              "      <td>Grocery store (aka. nanostore)</td>\n",
              "      <td>no</td>\n",
              "      <td>no</td>\n",
              "      <td>no</td>\n",
              "      <td>Analog cash register</td>\n",
              "      <td>yes</td>\n",
              "      <td>yes</td>\n",
              "      <td>...</td>\n",
              "      <td>3.9</td>\n",
              "      <td>1.1</td>\n",
              "      <td>12.0</td>\n",
              "      <td>1.4</td>\n",
              "      <td>12.0</td>\n",
              "      <td>6.5</td>\n",
              "      <td>13.2</td>\n",
              "      <td>8.2</td>\n",
              "      <td>2.2</td>\n",
              "      <td>2.0</td>\n",
              "    </tr>\n",
              "    <tr>\n",
              "      <th>...</th>\n",
              "      <td>...</td>\n",
              "      <td>...</td>\n",
              "      <td>...</td>\n",
              "      <td>...</td>\n",
              "      <td>...</td>\n",
              "      <td>...</td>\n",
              "      <td>...</td>\n",
              "      <td>...</td>\n",
              "      <td>...</td>\n",
              "      <td>...</td>\n",
              "      <td>...</td>\n",
              "      <td>...</td>\n",
              "      <td>...</td>\n",
              "      <td>...</td>\n",
              "      <td>...</td>\n",
              "      <td>...</td>\n",
              "      <td>...</td>\n",
              "      <td>...</td>\n",
              "      <td>...</td>\n",
              "      <td>...</td>\n",
              "      <td>...</td>\n",
              "    </tr>\n",
              "    <tr>\n",
              "      <th>439</th>\n",
              "      <td>2.330535</td>\n",
              "      <td>439</td>\n",
              "      <td>Xuti Galería</td>\n",
              "      <td>productos tradicionales</td>\n",
              "      <td>no</td>\n",
              "      <td>yes</td>\n",
              "      <td>no</td>\n",
              "      <td>Analog cash register</td>\n",
              "      <td>yes</td>\n",
              "      <td>yes</td>\n",
              "      <td>...</td>\n",
              "      <td>3.9</td>\n",
              "      <td>1.0</td>\n",
              "      <td>12.0</td>\n",
              "      <td>1.4</td>\n",
              "      <td>12.0</td>\n",
              "      <td>6.5</td>\n",
              "      <td>13.2</td>\n",
              "      <td>1.0</td>\n",
              "      <td>2.2</td>\n",
              "      <td>5.0</td>\n",
              "    </tr>\n",
              "    <tr>\n",
              "      <th>440</th>\n",
              "      <td>2.241319</td>\n",
              "      <td>440</td>\n",
              "      <td>July Store</td>\n",
              "      <td>Grocery store (aka. nanostore)</td>\n",
              "      <td>yes</td>\n",
              "      <td>no</td>\n",
              "      <td>no</td>\n",
              "      <td>Analog cash register,Smartphone</td>\n",
              "      <td>no</td>\n",
              "      <td>yes</td>\n",
              "      <td>...</td>\n",
              "      <td>3.9</td>\n",
              "      <td>1.1</td>\n",
              "      <td>12.0</td>\n",
              "      <td>1.4</td>\n",
              "      <td>12.0</td>\n",
              "      <td>6.5</td>\n",
              "      <td>13.2</td>\n",
              "      <td>8.2</td>\n",
              "      <td>2.2</td>\n",
              "      <td>2.5</td>\n",
              "    </tr>\n",
              "    <tr>\n",
              "      <th>441</th>\n",
              "      <td>2.241319</td>\n",
              "      <td>441</td>\n",
              "      <td>La fonda</td>\n",
              "      <td>Micro-restaurant (aka. fondita)</td>\n",
              "      <td>yes</td>\n",
              "      <td>no</td>\n",
              "      <td>yes</td>\n",
              "      <td>Smartphone</td>\n",
              "      <td>no</td>\n",
              "      <td>yes</td>\n",
              "      <td>...</td>\n",
              "      <td>3.9</td>\n",
              "      <td>1.1</td>\n",
              "      <td>12.0</td>\n",
              "      <td>1.4</td>\n",
              "      <td>12.0</td>\n",
              "      <td>6.5</td>\n",
              "      <td>13.2</td>\n",
              "      <td>8.2</td>\n",
              "      <td>2.2</td>\n",
              "      <td>2.5</td>\n",
              "    </tr>\n",
              "    <tr>\n",
              "      <th>442</th>\n",
              "      <td>2.241319</td>\n",
              "      <td>442</td>\n",
              "      <td>Birria de Res \"Hermanos Negreros 2\" estilo Tij...</td>\n",
              "      <td>Micro-restaurant (aka. fondita)</td>\n",
              "      <td>no</td>\n",
              "      <td>no</td>\n",
              "      <td>yes</td>\n",
              "      <td>Analog cash register</td>\n",
              "      <td>no</td>\n",
              "      <td>yes</td>\n",
              "      <td>...</td>\n",
              "      <td>3.9</td>\n",
              "      <td>1.1</td>\n",
              "      <td>12.0</td>\n",
              "      <td>1.4</td>\n",
              "      <td>12.0</td>\n",
              "      <td>6.5</td>\n",
              "      <td>13.2</td>\n",
              "      <td>8.2</td>\n",
              "      <td>2.2</td>\n",
              "      <td>2.5</td>\n",
              "    </tr>\n",
              "    <tr>\n",
              "      <th>443</th>\n",
              "      <td>2.241319</td>\n",
              "      <td>443</td>\n",
              "      <td>Restaurante el alfeñique</td>\n",
              "      <td>Micro-restaurant (aka. fondita)</td>\n",
              "      <td>no</td>\n",
              "      <td>no</td>\n",
              "      <td>yes</td>\n",
              "      <td>Smartphone</td>\n",
              "      <td>no</td>\n",
              "      <td>no</td>\n",
              "      <td>...</td>\n",
              "      <td>3.9</td>\n",
              "      <td>1.1</td>\n",
              "      <td>12.0</td>\n",
              "      <td>1.4</td>\n",
              "      <td>12.0</td>\n",
              "      <td>6.5</td>\n",
              "      <td>13.2</td>\n",
              "      <td>8.2</td>\n",
              "      <td>2.2</td>\n",
              "      <td>2.5</td>\n",
              "    </tr>\n",
              "  </tbody>\n",
              "</table>\n",
              "<p>444 rows × 89 columns</p>\n",
              "</div>\n",
              "      <button class=\"colab-df-convert\" onclick=\"convertToInteractive('df-cb4b5ffc-018f-40d2-9c7d-440cf8a9069f')\"\n",
              "              title=\"Convert this dataframe to an interactive table.\"\n",
              "              style=\"display:none;\">\n",
              "        \n",
              "  <svg xmlns=\"http://www.w3.org/2000/svg\" height=\"24px\"viewBox=\"0 0 24 24\"\n",
              "       width=\"24px\">\n",
              "    <path d=\"M0 0h24v24H0V0z\" fill=\"none\"/>\n",
              "    <path d=\"M18.56 5.44l.94 2.06.94-2.06 2.06-.94-2.06-.94-.94-2.06-.94 2.06-2.06.94zm-11 1L8.5 8.5l.94-2.06 2.06-.94-2.06-.94L8.5 2.5l-.94 2.06-2.06.94zm10 10l.94 2.06.94-2.06 2.06-.94-2.06-.94-.94-2.06-.94 2.06-2.06.94z\"/><path d=\"M17.41 7.96l-1.37-1.37c-.4-.4-.92-.59-1.43-.59-.52 0-1.04.2-1.43.59L10.3 9.45l-7.72 7.72c-.78.78-.78 2.05 0 2.83L4 21.41c.39.39.9.59 1.41.59.51 0 1.02-.2 1.41-.59l7.78-7.78 2.81-2.81c.8-.78.8-2.07 0-2.86zM5.41 20L4 18.59l7.72-7.72 1.47 1.35L5.41 20z\"/>\n",
              "  </svg>\n",
              "      </button>\n",
              "      \n",
              "  <style>\n",
              "    .colab-df-container {\n",
              "      display:flex;\n",
              "      flex-wrap:wrap;\n",
              "      gap: 12px;\n",
              "    }\n",
              "\n",
              "    .colab-df-convert {\n",
              "      background-color: #E8F0FE;\n",
              "      border: none;\n",
              "      border-radius: 50%;\n",
              "      cursor: pointer;\n",
              "      display: none;\n",
              "      fill: #1967D2;\n",
              "      height: 32px;\n",
              "      padding: 0 0 0 0;\n",
              "      width: 32px;\n",
              "    }\n",
              "\n",
              "    .colab-df-convert:hover {\n",
              "      background-color: #E2EBFA;\n",
              "      box-shadow: 0px 1px 2px rgba(60, 64, 67, 0.3), 0px 1px 3px 1px rgba(60, 64, 67, 0.15);\n",
              "      fill: #174EA6;\n",
              "    }\n",
              "\n",
              "    [theme=dark] .colab-df-convert {\n",
              "      background-color: #3B4455;\n",
              "      fill: #D2E3FC;\n",
              "    }\n",
              "\n",
              "    [theme=dark] .colab-df-convert:hover {\n",
              "      background-color: #434B5C;\n",
              "      box-shadow: 0px 1px 3px 1px rgba(0, 0, 0, 0.15);\n",
              "      filter: drop-shadow(0px 1px 2px rgba(0, 0, 0, 0.3));\n",
              "      fill: #FFFFFF;\n",
              "    }\n",
              "  </style>\n",
              "\n",
              "      <script>\n",
              "        const buttonEl =\n",
              "          document.querySelector('#df-cb4b5ffc-018f-40d2-9c7d-440cf8a9069f button.colab-df-convert');\n",
              "        buttonEl.style.display =\n",
              "          google.colab.kernel.accessAllowed ? 'block' : 'none';\n",
              "\n",
              "        async function convertToInteractive(key) {\n",
              "          const element = document.querySelector('#df-cb4b5ffc-018f-40d2-9c7d-440cf8a9069f');\n",
              "          const dataTable =\n",
              "            await google.colab.kernel.invokeFunction('convertToInteractive',\n",
              "                                                     [key], {});\n",
              "          if (!dataTable) return;\n",
              "\n",
              "          const docLinkHtml = 'Like what you see? Visit the ' +\n",
              "            '<a target=\"_blank\" href=https://colab.research.google.com/notebooks/data_table.ipynb>data table notebook</a>'\n",
              "            + ' to learn more about interactive tables.';\n",
              "          element.innerHTML = '';\n",
              "          dataTable['output_type'] = 'display_data';\n",
              "          await google.colab.output.renderOutput(dataTable, element);\n",
              "          const docLink = document.createElement('div');\n",
              "          docLink.innerHTML = docLinkHtml;\n",
              "          element.appendChild(docLink);\n",
              "        }\n",
              "      </script>\n",
              "    </div>\n",
              "  </div>\n",
              "  "
            ]
          },
          "metadata": {},
          "execution_count": 12
        }
      ]
    },
    {
      "cell_type": "code",
      "source": [
        "#Comparamos entre total real y total predictivo\n",
        "sns.scatterplot(x='145_number_direct_competitors', y='172_supplier_frequency', color=\"blue\" , data=micro)\n",
        "sns.scatterplot(x='145_number_direct_competitors', y='Predicciones', color=\"red\" , data=micro)"
      ],
      "metadata": {
        "colab": {
          "base_uri": "https://localhost:8080/",
          "height": 297
        },
        "id": "63Ot7nYkLbZq",
        "outputId": "def379e8-4973-4f9d-aed9-2b5858b46beb"
      },
      "execution_count": null,
      "outputs": [
        {
          "output_type": "execute_result",
          "data": {
            "text/plain": [
              "<matplotlib.axes._subplots.AxesSubplot at 0x7f12da8cb1d0>"
            ]
          },
          "metadata": {},
          "execution_count": 13
        },
        {
          "output_type": "display_data",
          "data": {
            "text/plain": [
              "<Figure size 432x288 with 1 Axes>"
            ],
            "image/png": "[encoded data removed]"
          },
          "metadata": {
            "needs_background": "light"
          }
        }
      ]
    },
    {
      "cell_type": "code",
      "source": [
        "#Corroboramos cual es el coeficiente de Determinación de nuestro modelo\n",
        "coef_Deter = model.score(X=Vars_Indep,y=Var_Dep)\n",
        "coef_Deter"
      ],
      "metadata": {
        "colab": {
          "base_uri": "https://localhost:8080/"
        },
        "id": "N_ggF7htLe2k",
        "outputId": "79271800-d8a6-44c2-ef24-1cd29b09eed7"
      },
      "execution_count": null,
      "outputs": [
        {
          "output_type": "execute_result",
          "data": {
            "text/plain": [
              "0.012990520857026122"
            ]
          },
          "metadata": {},
          "execution_count": 14
        }
      ]
    },
    {
      "cell_type": "code",
      "source": [
        "#Corroboramos cual es el coeficiente de correlación de nuestro modelo\n",
        "coef_Correl = np.sqrt(coef_Deter)\n",
        "coef_Correl"
      ],
      "metadata": {
        "colab": {
          "base_uri": "https://localhost:8080/"
        },
        "id": "39bE5BHULfrz",
        "outputId": "4e3cee87-5237-46ac-d1d6-f8d1944ad443"
      },
      "execution_count": null,
      "outputs": [
        {
          "output_type": "execute_result",
          "data": {
            "text/plain": [
              "0.11397596613771749"
            ]
          },
          "metadata": {},
          "execution_count": 15
        }
      ]
    }
  ]
}