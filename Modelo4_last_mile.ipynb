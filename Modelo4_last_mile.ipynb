{
  "nbformat": 4,
  "nbformat_minor": 0,
  "metadata": {
    "colab": {
      "provenance": [],
      "include_colab_link": true
    },
    "kernelspec": {
      "name": "python3",
      "display_name": "Python 3"
    },
    "language_info": {
      "name": "python"
    }
  },
  "cells": [
    {
      "cell_type": "markdown",
      "metadata": {
        "id": "view-in-github",
        "colab_type": "text"
      },
      "source": [
        "<a href=\"https://colab.research.google.com/github/A01732830/Entregable-3/blob/main/Modelo4_last_mile.ipynb\" target=\"_parent\"><img src=\"https://colab.research.google.com/assets/colab-badge.svg\" alt=\"Open In Colab\"/></a>"
      ]
    },
    {
      "cell_type": "code",
      "execution_count": null,
      "metadata": {
        "id": "EoUkmPF_inPJ"
      },
      "outputs": [],
      "source": [
        "#Importar librerias \n",
        "import pandas as pd\n",
        "import numpy as np\n",
        "import matplotlib.pyplot as plt\n",
        "import seaborn as sns"
      ]
    },
    {
      "cell_type": "code",
      "source": [
        "#Cargar archivo csv desde equipo\n",
        "from google.colab import files\n",
        "files.upload()"
      ],
      "metadata": {
        "id": "PcEnEH1hj3BH"
      },
      "execution_count": null,
      "outputs": []
    },
    {
      "cell_type": "code",
      "source": [
        "#Carga desde archivo .csv sin indice\n",
        "data=pd.read_csv(\"lastmile_delivery_operations_mit_lift_lab_horas_como_numeros.csv\")\n",
        "data.head()"
      ],
      "metadata": {
        "id": "74zJ1uwVP0eL",
        "colab": {
          "base_uri": "https://localhost:8080/",
          "height": 542
        },
        "outputId": "f2af7b17-bbe6-477d-e5e2-13b79cf42465"
      },
      "execution_count": null,
      "outputs": [
        {
          "output_type": "execute_result",
          "data": {
            "text/plain": [
              "                             _record_id  \\\n",
              "0  4408a234-9585-46fe-9b16-96c0faaf6db8   \n",
              "1  673cd0e3-7290-4c4d-a57f-096d16b78141   \n",
              "2  04e64464-3fbd-4ce1-99d8-5364e1567e8c   \n",
              "3  d0a6568d-cf8f-48fd-ad3d-007e79f4ae6b   \n",
              "4  eff15823-b1f2-4e82-afb2-2195635d1406   \n",
              "\n",
              "                                              _title       _server_updated_at  \\\n",
              "0  73 Calle Almolonga\\nPuebla de Zaragoza PUE 721...  2022-11-12 22:15:04 UTC   \n",
              "1  72 Calle Almolonga\\nPuebla de Zaragoza PUE 721...  2022-11-12 20:41:39 UTC   \n",
              "2  4510 Vía Volkswagen\\nHeroica Puebla de Zaragoz...  2022-11-12 18:02:57 UTC   \n",
              "3  4501A Avenida 2 Poniente\\nHeroica Puebla de Za...  2022-11-12 17:55:44 UTC   \n",
              "4  4717 Avenida Reforma\\nHeroica Puebla de Zarago...  2022-11-12 17:55:44 UTC   \n",
              "\n",
              "                    _updated_by  \\\n",
              "0          Salomon Abdala Perez   \n",
              "1  Jorge Alberto Ostorga Flores   \n",
              "2   Juan Carlos Bejarano Moreno   \n",
              "3   Luis Gerardo Ramírez Lastra   \n",
              "4   Luis Gerardo Ramírez Lastra   \n",
              "\n",
              "                                       _geometry  _latitude  _longitude  \\\n",
              "0  SRID=4326;POINT(-98.2334894708 19.0568933787)  19.056893  -98.233489   \n",
              "1   SRID=4326;POINT(-98.233483903 19.0568494313)  19.056849  -98.233484   \n",
              "2        SRID=4326;POINT(-98.2339161 19.0596775)  19.059677  -98.233916   \n",
              "3        SRID=4326;POINT(-98.2285674 19.0626948)  19.062695  -98.228567   \n",
              "4         SRID=4326;POINT(-98.231397 19.0627239)  19.062724  -98.231397   \n",
              "\n",
              "   arrival_of_the_freight_vehicle     plates company_if_visible  ...  \\\n",
              "0                        140000.0  KB-7050-A           Ricolino  ...   \n",
              "1                        135000.0    XC8687A           Marinela  ...   \n",
              "2                        114700.0   SM 20745            La fete  ...   \n",
              "3                        114500.0    SP35169             Barcel  ...   \n",
              "4                        114100.0    SN89460                NaN  ...   \n",
              "\n",
              "  used_traffic_cone vehicles_unloading_door  number_of_available_trolleys  \\\n",
              "0                no                    Side                             1   \n",
              "1                no                    Rear                             1   \n",
              "2                no                    Side                             0   \n",
              "3                no                    Rear                             2   \n",
              "4                no                    Rear                             2   \n",
              "\n",
              "  serving_customer garage_blocking accident  describe_the_accident noise  \\\n",
              "0              NaN             yes       no                    NaN    no   \n",
              "1              NaN              no       no                    NaN    no   \n",
              "2              1.0              no       no                    NaN    no   \n",
              "3              NaN             yes       no                    NaN    no   \n",
              "4              NaN              no       no                    NaN    no   \n",
              "\n",
              "  traffic_congestion maximum_number_of_vehicles_in_the_traffic_jam  \n",
              "0                 no                                           NaN  \n",
              "1                 no                                           NaN  \n",
              "2                 no                                           NaN  \n",
              "3                 no                                           NaN  \n",
              "4                 no                                           NaN  \n",
              "\n",
              "[5 rows x 29 columns]"
            ],
            "text/html": [
              "\n",
              "  <div id=\"df-61abedcd-ed8e-43e1-8088-8ceea38402df\">\n",
              "    <div class=\"colab-df-container\">\n",
              "      <div>\n",
              "<style scoped>\n",
              "    .dataframe tbody tr th:only-of-type {\n",
              "        vertical-align: middle;\n",
              "    }\n",
              "\n",
              "    .dataframe tbody tr th {\n",
              "        vertical-align: top;\n",
              "    }\n",
              "\n",
              "    .dataframe thead th {\n",
              "        text-align: right;\n",
              "    }\n",
              "</style>\n",
              "<table border=\"1\" class=\"dataframe\">\n",
              "  <thead>\n",
              "    <tr style=\"text-align: right;\">\n",
              "      <th></th>\n",
              "      <th>_record_id</th>\n",
              "      <th>_title</th>\n",
              "      <th>_server_updated_at</th>\n",
              "      <th>_updated_by</th>\n",
              "      <th>_geometry</th>\n",
              "      <th>_latitude</th>\n",
              "      <th>_longitude</th>\n",
              "      <th>arrival_of_the_freight_vehicle</th>\n",
              "      <th>plates</th>\n",
              "      <th>company_if_visible</th>\n",
              "      <th>...</th>\n",
              "      <th>used_traffic_cone</th>\n",
              "      <th>vehicles_unloading_door</th>\n",
              "      <th>number_of_available_trolleys</th>\n",
              "      <th>serving_customer</th>\n",
              "      <th>garage_blocking</th>\n",
              "      <th>accident</th>\n",
              "      <th>describe_the_accident</th>\n",
              "      <th>noise</th>\n",
              "      <th>traffic_congestion</th>\n",
              "      <th>maximum_number_of_vehicles_in_the_traffic_jam</th>\n",
              "    </tr>\n",
              "  </thead>\n",
              "  <tbody>\n",
              "    <tr>\n",
              "      <th>0</th>\n",
              "      <td>4408a234-9585-46fe-9b16-96c0faaf6db8</td>\n",
              "      <td>73 Calle Almolonga\\nPuebla de Zaragoza PUE 721...</td>\n",
              "      <td>2022-11-12 22:15:04 UTC</td>\n",
              "      <td>Salomon Abdala Perez</td>\n",
              "      <td>SRID=4326;POINT(-98.2334894708 19.0568933787)</td>\n",
              "      <td>19.056893</td>\n",
              "      <td>-98.233489</td>\n",
              "      <td>140000.0</td>\n",
              "      <td>KB-7050-A</td>\n",
              "      <td>Ricolino</td>\n",
              "      <td>...</td>\n",
              "      <td>no</td>\n",
              "      <td>Side</td>\n",
              "      <td>1</td>\n",
              "      <td>NaN</td>\n",
              "      <td>yes</td>\n",
              "      <td>no</td>\n",
              "      <td>NaN</td>\n",
              "      <td>no</td>\n",
              "      <td>no</td>\n",
              "      <td>NaN</td>\n",
              "    </tr>\n",
              "    <tr>\n",
              "      <th>1</th>\n",
              "      <td>673cd0e3-7290-4c4d-a57f-096d16b78141</td>\n",
              "      <td>72 Calle Almolonga\\nPuebla de Zaragoza PUE 721...</td>\n",
              "      <td>2022-11-12 20:41:39 UTC</td>\n",
              "      <td>Jorge Alberto Ostorga Flores</td>\n",
              "      <td>SRID=4326;POINT(-98.233483903 19.0568494313)</td>\n",
              "      <td>19.056849</td>\n",
              "      <td>-98.233484</td>\n",
              "      <td>135000.0</td>\n",
              "      <td>XC8687A</td>\n",
              "      <td>Marinela</td>\n",
              "      <td>...</td>\n",
              "      <td>no</td>\n",
              "      <td>Rear</td>\n",
              "      <td>1</td>\n",
              "      <td>NaN</td>\n",
              "      <td>no</td>\n",
              "      <td>no</td>\n",
              "      <td>NaN</td>\n",
              "      <td>no</td>\n",
              "      <td>no</td>\n",
              "      <td>NaN</td>\n",
              "    </tr>\n",
              "    <tr>\n",
              "      <th>2</th>\n",
              "      <td>04e64464-3fbd-4ce1-99d8-5364e1567e8c</td>\n",
              "      <td>4510 Vía Volkswagen\\nHeroica Puebla de Zaragoz...</td>\n",
              "      <td>2022-11-12 18:02:57 UTC</td>\n",
              "      <td>Juan Carlos Bejarano Moreno</td>\n",
              "      <td>SRID=4326;POINT(-98.2339161 19.0596775)</td>\n",
              "      <td>19.059677</td>\n",
              "      <td>-98.233916</td>\n",
              "      <td>114700.0</td>\n",
              "      <td>SM 20745</td>\n",
              "      <td>La fete</td>\n",
              "      <td>...</td>\n",
              "      <td>no</td>\n",
              "      <td>Side</td>\n",
              "      <td>0</td>\n",
              "      <td>1.0</td>\n",
              "      <td>no</td>\n",
              "      <td>no</td>\n",
              "      <td>NaN</td>\n",
              "      <td>no</td>\n",
              "      <td>no</td>\n",
              "      <td>NaN</td>\n",
              "    </tr>\n",
              "    <tr>\n",
              "      <th>3</th>\n",
              "      <td>d0a6568d-cf8f-48fd-ad3d-007e79f4ae6b</td>\n",
              "      <td>4501A Avenida 2 Poniente\\nHeroica Puebla de Za...</td>\n",
              "      <td>2022-11-12 17:55:44 UTC</td>\n",
              "      <td>Luis Gerardo Ramírez Lastra</td>\n",
              "      <td>SRID=4326;POINT(-98.2285674 19.0626948)</td>\n",
              "      <td>19.062695</td>\n",
              "      <td>-98.228567</td>\n",
              "      <td>114500.0</td>\n",
              "      <td>SP35169</td>\n",
              "      <td>Barcel</td>\n",
              "      <td>...</td>\n",
              "      <td>no</td>\n",
              "      <td>Rear</td>\n",
              "      <td>2</td>\n",
              "      <td>NaN</td>\n",
              "      <td>yes</td>\n",
              "      <td>no</td>\n",
              "      <td>NaN</td>\n",
              "      <td>no</td>\n",
              "      <td>no</td>\n",
              "      <td>NaN</td>\n",
              "    </tr>\n",
              "    <tr>\n",
              "      <th>4</th>\n",
              "      <td>eff15823-b1f2-4e82-afb2-2195635d1406</td>\n",
              "      <td>4717 Avenida Reforma\\nHeroica Puebla de Zarago...</td>\n",
              "      <td>2022-11-12 17:55:44 UTC</td>\n",
              "      <td>Luis Gerardo Ramírez Lastra</td>\n",
              "      <td>SRID=4326;POINT(-98.231397 19.0627239)</td>\n",
              "      <td>19.062724</td>\n",
              "      <td>-98.231397</td>\n",
              "      <td>114100.0</td>\n",
              "      <td>SN89460</td>\n",
              "      <td>NaN</td>\n",
              "      <td>...</td>\n",
              "      <td>no</td>\n",
              "      <td>Rear</td>\n",
              "      <td>2</td>\n",
              "      <td>NaN</td>\n",
              "      <td>no</td>\n",
              "      <td>no</td>\n",
              "      <td>NaN</td>\n",
              "      <td>no</td>\n",
              "      <td>no</td>\n",
              "      <td>NaN</td>\n",
              "    </tr>\n",
              "  </tbody>\n",
              "</table>\n",
              "<p>5 rows × 29 columns</p>\n",
              "</div>\n",
              "      <button class=\"colab-df-convert\" onclick=\"convertToInteractive('df-61abedcd-ed8e-43e1-8088-8ceea38402df')\"\n",
              "              title=\"Convert this dataframe to an interactive table.\"\n",
              "              style=\"display:none;\">\n",
              "        \n",
              "  <svg xmlns=\"http://www.w3.org/2000/svg\" height=\"24px\"viewBox=\"0 0 24 24\"\n",
              "       width=\"24px\">\n",
              "    <path d=\"M0 0h24v24H0V0z\" fill=\"none\"/>\n",
              "    <path d=\"M18.56 5.44l.94 2.06.94-2.06 2.06-.94-2.06-.94-.94-2.06-.94 2.06-2.06.94zm-11 1L8.5 8.5l.94-2.06 2.06-.94-2.06-.94L8.5 2.5l-.94 2.06-2.06.94zm10 10l.94 2.06.94-2.06 2.06-.94-2.06-.94-.94-2.06-.94 2.06-2.06.94z\"/><path d=\"M17.41 7.96l-1.37-1.37c-.4-.4-.92-.59-1.43-.59-.52 0-1.04.2-1.43.59L10.3 9.45l-7.72 7.72c-.78.78-.78 2.05 0 2.83L4 21.41c.39.39.9.59 1.41.59.51 0 1.02-.2 1.41-.59l7.78-7.78 2.81-2.81c.8-.78.8-2.07 0-2.86zM5.41 20L4 18.59l7.72-7.72 1.47 1.35L5.41 20z\"/>\n",
              "  </svg>\n",
              "      </button>\n",
              "      \n",
              "  <style>\n",
              "    .colab-df-container {\n",
              "      display:flex;\n",
              "      flex-wrap:wrap;\n",
              "      gap: 12px;\n",
              "    }\n",
              "\n",
              "    .colab-df-convert {\n",
              "      background-color: #E8F0FE;\n",
              "      border: none;\n",
              "      border-radius: 50%;\n",
              "      cursor: pointer;\n",
              "      display: none;\n",
              "      fill: #1967D2;\n",
              "      height: 32px;\n",
              "      padding: 0 0 0 0;\n",
              "      width: 32px;\n",
              "    }\n",
              "\n",
              "    .colab-df-convert:hover {\n",
              "      background-color: #E2EBFA;\n",
              "      box-shadow: 0px 1px 2px rgba(60, 64, 67, 0.3), 0px 1px 3px 1px rgba(60, 64, 67, 0.15);\n",
              "      fill: #174EA6;\n",
              "    }\n",
              "\n",
              "    [theme=dark] .colab-df-convert {\n",
              "      background-color: #3B4455;\n",
              "      fill: #D2E3FC;\n",
              "    }\n",
              "\n",
              "    [theme=dark] .colab-df-convert:hover {\n",
              "      background-color: #434B5C;\n",
              "      box-shadow: 0px 1px 3px 1px rgba(0, 0, 0, 0.15);\n",
              "      filter: drop-shadow(0px 1px 2px rgba(0, 0, 0, 0.3));\n",
              "      fill: #FFFFFF;\n",
              "    }\n",
              "  </style>\n",
              "\n",
              "      <script>\n",
              "        const buttonEl =\n",
              "          document.querySelector('#df-61abedcd-ed8e-43e1-8088-8ceea38402df button.colab-df-convert');\n",
              "        buttonEl.style.display =\n",
              "          google.colab.kernel.accessAllowed ? 'block' : 'none';\n",
              "\n",
              "        async function convertToInteractive(key) {\n",
              "          const element = document.querySelector('#df-61abedcd-ed8e-43e1-8088-8ceea38402df');\n",
              "          const dataTable =\n",
              "            await google.colab.kernel.invokeFunction('convertToInteractive',\n",
              "                                                     [key], {});\n",
              "          if (!dataTable) return;\n",
              "\n",
              "          const docLinkHtml = 'Like what you see? Visit the ' +\n",
              "            '<a target=\"_blank\" href=https://colab.research.google.com/notebooks/data_table.ipynb>data table notebook</a>'\n",
              "            + ' to learn more about interactive tables.';\n",
              "          element.innerHTML = '';\n",
              "          dataTable['output_type'] = 'display_data';\n",
              "          await google.colab.output.renderOutput(dataTable, element);\n",
              "          const docLink = document.createElement('div');\n",
              "          docLink.innerHTML = docLinkHtml;\n",
              "          element.appendChild(docLink);\n",
              "        }\n",
              "      </script>\n",
              "    </div>\n",
              "  </div>\n",
              "  "
            ]
          },
          "metadata": {},
          "execution_count": 3
        }
      ]
    },
    {
      "cell_type": "code",
      "source": [
        "#Rellenamos nulos\n",
        "\n",
        "df =data.fillna(method=\"bfill\")\n",
        "df =data.fillna(method=\"ffill\")"
      ],
      "metadata": {
        "id": "RKmtBx7-P--2"
      },
      "execution_count": null,
      "outputs": []
    },
    {
      "cell_type": "markdown",
      "source": [
        "Primer caso"
      ],
      "metadata": {
        "id": "lTGENszhQo3C"
      }
    },
    {
      "cell_type": "code",
      "source": [
        "#Se grafican mapas de dispersión de las variables 3 variables:'alcohol', 'speeding' y 'no_previous' al respecto a la variable \"total\"\n",
        "from turtle import color\n",
        "\n",
        "sns.scatterplot(x='number_of_operators', y='arrival_of_the_freight_vehicle', color=\"blue\", data=df)\n",
        "sns.scatterplot(x='number_of_available_trolleys', y='arrival_of_the_freight_vehicle', color=\"red\", data=df)"
      ],
      "metadata": {
        "id": "da-D_SqPj92j",
        "outputId": "cc5bc7d9-418e-4cde-eeb1-7b3b9c85b4e9",
        "colab": {
          "base_uri": "https://localhost:8080/",
          "height": 299
        }
      },
      "execution_count": null,
      "outputs": [
        {
          "output_type": "execute_result",
          "data": {
            "text/plain": [
              "<matplotlib.axes._subplots.AxesSubplot at 0x7f2260bd1290>"
            ]
          },
          "metadata": {},
          "execution_count": 5
        },
        {
          "output_type": "display_data",
          "data": {
            "text/plain": [
              "<Figure size 432x288 with 1 Axes>"
            ],
            "image/png": "[encoded data removed]"
          },
          "metadata": {
            "needs_background": "light"
          }
        }
      ]
    },
    {
      "cell_type": "code",
      "source": [
        "#Declaramos las variables dependientes e independientes para la regresión lineal\n",
        "Vars_Indep= df[['number_of_operators', 'number_of_available_trolleys']]\n",
        "Var_Dep= df['arrival_of_the_freight_vehicle']"
      ],
      "metadata": {
        "id": "602Na8DgkiA-"
      },
      "execution_count": null,
      "outputs": []
    },
    {
      "cell_type": "code",
      "source": [
        "#Se define model como la función de regresión lineal\n",
        "from sklearn.linear_model import LinearRegression\n",
        "modelo= LinearRegression()"
      ],
      "metadata": {
        "id": "68_b_d3tkjp2"
      },
      "execution_count": null,
      "outputs": []
    },
    {
      "cell_type": "code",
      "source": [
        "#Verificamos la función relacionada al modelo\n",
        "type(modelo)"
      ],
      "metadata": {
        "id": "rvB3Af6eklM7",
        "outputId": "e69146d9-bd25-4bcd-db5b-c06001e372f4",
        "colab": {
          "base_uri": "https://localhost:8080/"
        }
      },
      "execution_count": null,
      "outputs": [
        {
          "output_type": "execute_result",
          "data": {
            "text/plain": [
              "sklearn.linear_model._base.LinearRegression"
            ]
          },
          "metadata": {},
          "execution_count": 8
        }
      ]
    },
    {
      "cell_type": "code",
      "source": [
        "#Ajustamos el modelo con las variables antes declaradas\n",
        "modelo.fit(X=Vars_Indep, y=Var_Dep)"
      ],
      "metadata": {
        "colab": {
          "base_uri": "https://localhost:8080/"
        },
        "id": "174F-Z1Vko3g",
        "outputId": "99868f5c-bfc4-4777-8922-a5bc998eabb8"
      },
      "execution_count": null,
      "outputs": [
        {
          "output_type": "execute_result",
          "data": {
            "text/plain": [
              "LinearRegression()"
            ]
          },
          "metadata": {},
          "execution_count": 9
        }
      ]
    },
    {
      "cell_type": "code",
      "source": [
        "#Verificamos los coeficientes obtenidos para el modelo ajustado\n",
        "modelo.__dict__"
      ],
      "metadata": {
        "id": "sEFI6tAbksOL",
        "outputId": "4528ca0a-dafe-480f-f5b7-53031252d27d",
        "colab": {
          "base_uri": "https://localhost:8080/"
        }
      },
      "execution_count": null,
      "outputs": [
        {
          "output_type": "execute_result",
          "data": {
            "text/plain": [
              "{'fit_intercept': True,\n",
              " 'normalize': 'deprecated',\n",
              " 'copy_X': True,\n",
              " 'n_jobs': None,\n",
              " 'positive': False,\n",
              " 'feature_names_in_': array(['number_of_operators', 'number_of_available_trolleys'],\n",
              "       dtype=object),\n",
              " 'n_features_in_': 2,\n",
              " 'coef_': array([-3140.78035392,  -789.00741695]),\n",
              " '_residues': 112610077254.31425,\n",
              " 'rank_': 2,\n",
              " 'singular_': array([12.36016958,  8.77345204]),\n",
              " 'intercept_': 125864.20835291843}"
            ]
          },
          "metadata": {},
          "execution_count": 10
        }
      ]
    },
    {
      "cell_type": "code",
      "source": [
        "#Evaluamos la eficiencia del modelo obtenido por medio del coeficiente R2 Determinación\n",
        "modelo.score(Vars_Indep,Var_Dep)"
      ],
      "metadata": {
        "id": "UBSZr6OskyPQ",
        "outputId": "8664a1b4-a73b-45a2-c41b-829bd13622a8",
        "colab": {
          "base_uri": "https://localhost:8080/"
        }
      },
      "execution_count": null,
      "outputs": [
        {
          "output_type": "execute_result",
          "data": {
            "text/plain": [
              "0.013401828590544063"
            ]
          },
          "metadata": {},
          "execution_count": 11
        }
      ]
    },
    {
      "cell_type": "markdown",
      "source": [
        "**MODELO PREDICTIVO**\n",
        "\n"
      ],
      "metadata": {
        "id": "kRyasHQXk1rb"
      }
    },
    {
      "cell_type": "code",
      "source": [
        "#Predecimos los valores de total de accidentes a partir de las variables: \"alcohol\", \"speeding\" y \"no_previous\"\n",
        "y_pred= modelo.predict(X=df[['number_of_operators', 'number_of_available_trolleys']])\n",
        "y_pred"
      ],
      "metadata": {
        "id": "qTkUZZS4k5Pu"
      },
      "execution_count": null,
      "outputs": []
    },
    {
      "cell_type": "code",
      "source": [
        "#Insertamos la columna de predicciones en el DataFrame\n",
        "df.insert(0, 'Predicciones', y_pred)\n",
        "df"
      ],
      "metadata": {
        "id": "WKog5ZcplZV_"
      },
      "execution_count": null,
      "outputs": []
    },
    {
      "cell_type": "code",
      "source": [
        "#Visualizamos la gráfica comparativa entre el total real y el total predecido\n",
        "\n",
        "sns.scatterplot(x='number_of_available_trolleys', y='arrival_of_the_freight_vehicle', color=\"blue\", data=df)\n",
        "sns.scatterplot(x='number_of_available_trolleys', y='Predicciones', color=\"red\", data=df)\n",
        "#sns.lineplot(x='268_number_fridges', y='Predicciones', color=\"red\", data=df)"
      ],
      "metadata": {
        "colab": {
          "base_uri": "https://localhost:8080/",
          "height": 299
        },
        "id": "rRiMjyMelf2i",
        "outputId": "6f1855f0-cfbe-4b9b-8598-38c25c681414"
      },
      "execution_count": null,
      "outputs": [
        {
          "output_type": "execute_result",
          "data": {
            "text/plain": [
              "<matplotlib.axes._subplots.AxesSubplot at 0x7f225f7c8d50>"
            ]
          },
          "metadata": {},
          "execution_count": 18
        },
        {
          "output_type": "display_data",
          "data": {
            "text/plain": [
              "<Figure size 432x288 with 1 Axes>"
            ],
            "image/png": "[encoded data removed]"
          },
          "metadata": {
            "needs_background": "light"
          }
        }
      ]
    },
    {
      "cell_type": "code",
      "source": [
        "#Corroboramos cual es el coeficiente de Determinación de nuestro modelo\n",
        "coef_Deter=modelo.score(X=Vars_Indep, y=Var_Dep)\n",
        "coef_Deter"
      ],
      "metadata": {
        "colab": {
          "base_uri": "https://localhost:8080/"
        },
        "id": "VjDPFjA-lkaQ",
        "outputId": "fbe0b815-fcc1-4a1a-cab3-e9256fdcd705"
      },
      "execution_count": null,
      "outputs": [
        {
          "output_type": "execute_result",
          "data": {
            "text/plain": [
              "0.013401828590544063"
            ]
          },
          "metadata": {},
          "execution_count": 19
        }
      ]
    },
    {
      "cell_type": "code",
      "source": [
        "#Corroboramos cual es el coeficiente de Correlación de nuestro modelo\n",
        "coef_Correl=np.sqrt(coef_Deter)\n",
        "coef_Correl"
      ],
      "metadata": {
        "colab": {
          "base_uri": "https://localhost:8080/"
        },
        "id": "nP_-pRkMlmde",
        "outputId": "21464cb1-a2f2-4d13-918f-75be4659a034"
      },
      "execution_count": null,
      "outputs": [
        {
          "output_type": "execute_result",
          "data": {
            "text/plain": [
              "0.1157662670666376"
            ]
          },
          "metadata": {},
          "execution_count": 20
        }
      ]
    }
  ]
}