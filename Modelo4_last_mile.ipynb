{
  "nbformat": 4,
  "nbformat_minor": 0,
  "metadata": {
    "colab": {
      "provenance": [],
      "include_colab_link": true
    },
    "kernelspec": {
      "name": "python3",
      "display_name": "Python 3"
    },
    "language_info": {
      "name": "python"
    }
  },
  "cells": [
    {
      "cell_type": "markdown",
      "metadata": {
        "id": "view-in-github",
        "colab_type": "text"
      },
      "source": [
        "<a href=\"https://colab.research.google.com/github/A01732830/Entregable-3/blob/main/Modelo4_last_mile.ipynb\" target=\"_parent\"><img src=\"https://colab.research.google.com/assets/colab-badge.svg\" alt=\"Open In Colab\"/></a>"
      ]
    },
    {
      "cell_type": "code",
      "execution_count": 1,
      "metadata": {
        "id": "EoUkmPF_inPJ"
      },
      "outputs": [],
      "source": [
        "#Importar librerias \n",
        "import pandas as pd\n",
        "import numpy as np\n",
        "import matplotlib.pyplot as plt\n",
        "import seaborn as sns"
      ]
    },
    {
      "cell_type": "code",
      "source": [
        "#Cargar archivo csv desde equipo\n",
        "from google.colab import files\n",
        "files.upload()"
      ],
      "metadata": {
        "id": "PcEnEH1hj3BH"
      },
      "execution_count": null,
      "outputs": []
    },
    {
      "cell_type": "code",
      "source": [
        "#Carga desde archivo .csv sin indice\n",
        "data=pd.read_csv(\"lastmile_delivery_operations_mit_lift_lab_horas_como_numeros.csv\")\n",
        "data.head()"
      ],
      "metadata": {
        "id": "74zJ1uwVP0eL"
      },
      "execution_count": null,
      "outputs": []
    },
    {
      "cell_type": "code",
      "source": [
        "#Rellenamos nulos\n",
        "\n",
        "df =data.fillna(method=\"bfill\")\n",
        "df =data.fillna(method=\"ffill\")"
      ],
      "metadata": {
        "id": "RKmtBx7-P--2"
      },
      "execution_count": 4,
      "outputs": []
    },
    {
      "cell_type": "markdown",
      "source": [
        "Primer caso"
      ],
      "metadata": {
        "id": "lTGENszhQo3C"
      }
    },
    {
      "cell_type": "code",
      "source": [
        "#Se grafican mapas de dispersión de las variables 3 variables:'alcohol', 'speeding' y 'no_previous' al respecto a la variable \"total\"\n",
        "from turtle import color\n",
        "\n",
        "sns.scatterplot(x='arrival_of_the_freight_vehicle', y='number_of_operators', color=\"blue\", data=df)\n",
        "sns.scatterplot(x='number_of_available_trolleys', y='number_of_operators', color=\"red\", data=df)"
      ],
      "metadata": {
        "id": "da-D_SqPj92j",
        "outputId": "bb497b69-7cae-4bc9-9345-cc01a254e708",
        "colab": {
          "base_uri": "https://localhost:8080/",
          "height": 297
        }
      },
      "execution_count": 5,
      "outputs": [
        {
          "output_type": "execute_result",
          "data": {
            "text/plain": [
              "<matplotlib.axes._subplots.AxesSubplot at 0x7faa85c4da10>"
            ]
          },
          "metadata": {},
          "execution_count": 5
        },
        {
          "output_type": "display_data",
          "data": {
            "text/plain": [
              "<Figure size 432x288 with 1 Axes>"
            ],
            "image/png": "[encoded data removed]"
          },
          "metadata": {
            "needs_background": "light"
          }
        }
      ]
    },
    {
      "cell_type": "code",
      "source": [
        "#Declaramos las variables dependientes e independientes para la regresión lineal\n",
        "Vars_Indep= df[['arrival_of_the_freight_vehicle', 'number_of_available_trolleys']]\n",
        "Var_Dep= df['number_of_operators']"
      ],
      "metadata": {
        "id": "602Na8DgkiA-"
      },
      "execution_count": 6,
      "outputs": []
    },
    {
      "cell_type": "code",
      "source": [
        "#Se define model como la función de regresión lineal\n",
        "from sklearn.linear_model import LinearRegression\n",
        "modelo= LinearRegression()"
      ],
      "metadata": {
        "id": "68_b_d3tkjp2"
      },
      "execution_count": 7,
      "outputs": []
    },
    {
      "cell_type": "code",
      "source": [
        "#Verificamos la función relacionada al modelo\n",
        "type(modelo)"
      ],
      "metadata": {
        "id": "rvB3Af6eklM7",
        "outputId": "ad3e8668-bb8d-4310-b0f6-91ba8c2e008f",
        "colab": {
          "base_uri": "https://localhost:8080/"
        }
      },
      "execution_count": 8,
      "outputs": [
        {
          "output_type": "execute_result",
          "data": {
            "text/plain": [
              "sklearn.linear_model._base.LinearRegression"
            ]
          },
          "metadata": {},
          "execution_count": 8
        }
      ]
    },
    {
      "cell_type": "code",
      "source": [
        "#Ajustamos el modelo con las variables antes declaradas\n",
        "modelo.fit(X=Vars_Indep, y=Var_Dep)"
      ],
      "metadata": {
        "colab": {
          "base_uri": "https://localhost:8080/"
        },
        "id": "174F-Z1Vko3g",
        "outputId": "c51d5119-370d-42f1-cf2e-20a275d0654a"
      },
      "execution_count": 9,
      "outputs": [
        {
          "output_type": "execute_result",
          "data": {
            "text/plain": [
              "LinearRegression()"
            ]
          },
          "metadata": {},
          "execution_count": 9
        }
      ]
    },
    {
      "cell_type": "code",
      "source": [
        "#Verificamos los coeficientes obtenidos para el modelo ajustado\n",
        "modelo.__dict__"
      ],
      "metadata": {
        "id": "sEFI6tAbksOL",
        "outputId": "714a2095-f481-4ed8-b3c5-bead02792b79",
        "colab": {
          "base_uri": "https://localhost:8080/"
        }
      },
      "execution_count": 10,
      "outputs": [
        {
          "output_type": "execute_result",
          "data": {
            "text/plain": [
              "{'fit_intercept': True,\n",
              " 'normalize': 'deprecated',\n",
              " 'copy_X': True,\n",
              " 'n_jobs': None,\n",
              " 'positive': False,\n",
              " 'feature_names_in_': array(['arrival_of_the_freight_vehicle', 'number_of_available_trolleys'],\n",
              "       dtype=object),\n",
              " 'n_features_in_': 2,\n",
              " 'coef_': array([-3.31617498e-06,  3.39874346e-01]),\n",
              " '_residues': 118.89870631129362,\n",
              " 'rank_': 2,\n",
              " 'singular_': array([3.37845762e+05, 9.87817064e+00]),\n",
              " 'intercept_': 1.8442939890979344}"
            ]
          },
          "metadata": {},
          "execution_count": 10
        }
      ]
    },
    {
      "cell_type": "code",
      "source": [
        "#Evaluamos la eficiencia del modelo obtenido por medio del coeficiente R2 Determinación\n",
        "modelo.score(Vars_Indep,Var_Dep)"
      ],
      "metadata": {
        "id": "UBSZr6OskyPQ",
        "outputId": "74549919-bd0d-4734-f34e-885171d60473",
        "colab": {
          "base_uri": "https://localhost:8080/"
        }
      },
      "execution_count": 11,
      "outputs": [
        {
          "output_type": "execute_result",
          "data": {
            "text/plain": [
              "0.09838904426251249"
            ]
          },
          "metadata": {},
          "execution_count": 11
        }
      ]
    },
    {
      "cell_type": "markdown",
      "source": [
        "**MODELO PREDICTIVO**\n",
        "\n"
      ],
      "metadata": {
        "id": "kRyasHQXk1rb"
      }
    },
    {
      "cell_type": "code",
      "source": [
        "#Predecimos los valores de total de accidentes a partir de las variables: \"alcohol\", \"speeding\" y \"no_previous\"\n",
        "y_pred= modelo.predict(X=df[['arrival_of_the_freight_vehicle', 'number_of_available_trolleys']])\n",
        "y_pred"
      ],
      "metadata": {
        "id": "qTkUZZS4k5Pu"
      },
      "execution_count": null,
      "outputs": []
    },
    {
      "cell_type": "code",
      "source": [
        "#Insertamos la columna de predicciones en el DataFrame\n",
        "df.insert(0, 'Predicciones', y_pred)\n",
        "df"
      ],
      "metadata": {
        "id": "WKog5ZcplZV_"
      },
      "execution_count": null,
      "outputs": []
    },
    {
      "cell_type": "code",
      "source": [
        "#Visualizamos la gráfica comparativa entre el total real y el total predecido\n",
        "\n",
        "sns.scatterplot(x='arrival_of_the_freight_vehicle', y='number_of_operators', color=\"blue\", data=df)\n",
        "sns.scatterplot(x='arrival_of_the_freight_vehicle', y='Predicciones', color=\"red\", data=df)\n",
        "\n",
        "#sns.lineplot(x='268_number_fridges', y='Predicciones', color=\"red\", data=df)"
      ],
      "metadata": {
        "colab": {
          "base_uri": "https://localhost:8080/",
          "height": 297
        },
        "id": "rRiMjyMelf2i",
        "outputId": "a17c9426-bbec-492c-af41-b6b8a18100f0"
      },
      "execution_count": 20,
      "outputs": [
        {
          "output_type": "execute_result",
          "data": {
            "text/plain": [
              "<matplotlib.axes._subplots.AxesSubplot at 0x7faa847d4d90>"
            ]
          },
          "metadata": {},
          "execution_count": 20
        },
        {
          "output_type": "display_data",
          "data": {
            "text/plain": [
              "<Figure size 432x288 with 1 Axes>"
            ],
            "image/png": "[encoded data removed]"
          },
          "metadata": {
            "needs_background": "light"
          }
        }
      ]
    },
    {
      "cell_type": "code",
      "source": [
        "sns.scatterplot(x='number_of_available_trolleys', y='number_of_operators', color=\"green\", data=df)\n",
        "sns.scatterplot(x='number_of_available_trolleys', y='Predicciones', color=\"purple\", data=df)"
      ],
      "metadata": {
        "colab": {
          "base_uri": "https://localhost:8080/",
          "height": 297
        },
        "id": "iXspYtkVDf-_",
        "outputId": "7e72ed5c-cc1c-41b7-8af2-285598cf8ccf"
      },
      "execution_count": 21,
      "outputs": [
        {
          "output_type": "execute_result",
          "data": {
            "text/plain": [
              "<matplotlib.axes._subplots.AxesSubplot at 0x7faa846fcd50>"
            ]
          },
          "metadata": {},
          "execution_count": 21
        },
        {
          "output_type": "display_data",
          "data": {
            "text/plain": [
              "<Figure size 432x288 with 1 Axes>"
            ],
            "image/png": "[encoded data removed]"
          },
          "metadata": {
            "needs_background": "light"
          }
        }
      ]
    },
    {
      "cell_type": "code",
      "source": [
        "#Corroboramos cual es el coeficiente de Determinación de nuestro modelo\n",
        "coef_Deter=modelo.score(X=Vars_Indep, y=Var_Dep)\n",
        "coef_Deter"
      ],
      "metadata": {
        "colab": {
          "base_uri": "https://localhost:8080/"
        },
        "id": "VjDPFjA-lkaQ",
        "outputId": "d125a9f3-35d3-4dba-928f-38356b220612"
      },
      "execution_count": 22,
      "outputs": [
        {
          "output_type": "execute_result",
          "data": {
            "text/plain": [
              "0.09838904426251249"
            ]
          },
          "metadata": {},
          "execution_count": 22
        }
      ]
    },
    {
      "cell_type": "code",
      "source": [
        "#Corroboramos cual es el coeficiente de Correlación de nuestro modelo\n",
        "coef_Correl=np.sqrt(coef_Deter)\n",
        "coef_Correl"
      ],
      "metadata": {
        "colab": {
          "base_uri": "https://localhost:8080/"
        },
        "id": "nP_-pRkMlmde",
        "outputId": "72f4835c-217e-460b-b4d1-b31981347c0f"
      },
      "execution_count": 23,
      "outputs": [
        {
          "output_type": "execute_result",
          "data": {
            "text/plain": [
              "0.3136702795333222"
            ]
          },
          "metadata": {},
          "execution_count": 23
        }
      ]
    }
  ]
}